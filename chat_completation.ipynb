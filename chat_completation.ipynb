{
 "cells": [
  {
   "cell_type": "code",
   "execution_count": 4,
   "metadata": {},
   "outputs": [],
   "source": [
    "from openai import OpenAI\n",
    "from openai.types.chat.chat_completion import ChatCompletion\n",
    "import os"
   ]
  },
  {
   "cell_type": "code",
   "execution_count": 5,
   "metadata": {},
   "outputs": [],
   "source": [
    "api_key: str = os.getenv(\"OPENAI_API_KEY\")\n",
    "client = OpenAI(api_key=api_key)"
   ]
  },
  {
   "cell_type": "code",
   "execution_count": null,
   "metadata": {},
   "outputs": [
    {
     "name": "stdout",
     "output_type": "stream",
     "text": [
      "Una función lambda en Python es una función anónima, es decir, una función que no tiene un nombre definido. Se utiliza para crear funciones pequeñas y simples de manera concisa. La sintaxis de una función lambda es:\n",
      "\n",
      "```python\n",
      "lambda\n"
     ]
    }
   ],
   "source": [
    "completion: ChatCompletion = client.chat.completions.create(\n",
    "    model=\"gpt-4o-mini\",\n",
    "    messages=[\n",
    "        {\"role\": \"system\", \"content\": \"Eres un asistente que da respuestas a preguntas sobre programación.\"},\n",
    "        {\n",
    "            \"role\": \"user\",\n",
    "            \"content\": \"¿Cuál es la diferencia entre una lista y una tupla en Python?\"\n",
    "        },\n",
    "        {\n",
    "            \"role\": \"assistant\",\n",
    "            \"content\": \"Una lista es un conjunto de elementos ordenados y mutables, mientras que una tupla es un conjunto de elementos ordenados e inmutables.\"\n",
    "        },\n",
    "        {\n",
    "            \"role\": \"user\",\n",
    "            \"content\": \"¿Qué es una función lambda en Python?\"\n",
    "        }\n",
    "    ],\n",
    ")\n",
    "\n",
    "print(completion.choices[0].message.content)"
   ]
  },
  {
   "cell_type": "code",
   "execution_count": null,
   "metadata": {},
   "outputs": [
    {
     "name": "stdout",
     "output_type": "stream",
     "text": [
      "ChatCompletion(id='chatcmpl-AmuOWMkpiOLsHOBGi4rNukr87ibA5', choices=[Choice(finish_reason='length', index=0, logprobs=None, message=ChatCompletionMessage(content='América fue \"descubierta\" por Cristóbal Colón en 1492, cuando llegó a las islas del Caribe. Sin embargo, es importante señalar que América ya estaba habitada por diversas culturas y civilizaciones indígenas mucho antes de', refusal=None, role='assistant', audio=None, function_call=None, tool_calls=None)), Choice(finish_reason='length', index=1, logprobs=None, message=ChatCompletionMessage(content='Cristóbal Colón es a menudo acreditado con el descubrimiento de América en 1492, cuando llegó a lo que hoy conocemos como las Bahamas. Sin embargo, es importante señalar que América ya estaba habitada por diversas civilizaciones indígenas mucho', refusal=None, role='assistant', audio=None, function_call=None, tool_calls=None))], created=1736219888, model='gpt-4o-mini-2024-07-18', object='chat.completion', service_tier=None, system_fingerprint='fp_d02d531b47', usage=CompletionUsage(completion_tokens=100, prompt_tokens=26, total_tokens=126, completion_tokens_details=CompletionTokensDetails(accepted_prediction_tokens=0, audio_tokens=0, reasoning_tokens=0, rejected_prediction_tokens=0), prompt_tokens_details=PromptTokensDetails(audio_tokens=0, cached_tokens=0)))\n"
     ]
    }
   ],
   "source": [
    "completion_2: ChatCompletion = client.chat.completions.create(\n",
    "    model=\"gpt-4o-mini\",\n",
    "    messages=[\n",
    "        {\"role\": \"system\", \"content\": \"Eres un asistente que responde diversas dudas\"},\n",
    "        {\n",
    "            \"role\": \"user\",\n",
    "            \"content\": \"¿Quién descubrió América?\"\n",
    "        }\n",
    "    ],\n",
    "    max_tokens=50,\n",
    "    temperature=0.5,\n",
    "    top_p=1,\n",
    "    n=2,\n",
    ")\n",
    "\n",
    "print(completion_2)"
   ]
  },
  {
   "cell_type": "code",
   "execution_count": 10,
   "metadata": {},
   "outputs": [
    {
     "data": {
      "text/plain": [
       "[Choice(finish_reason='length', index=0, logprobs=None, message=ChatCompletionMessage(content='América fue \"descubierta\" por Cristóbal Colón en 1492, cuando llegó a las islas del Caribe. Sin embargo, es importante señalar que América ya estaba habitada por diversas culturas y civilizaciones indígenas mucho antes de', refusal=None, role='assistant', audio=None, function_call=None, tool_calls=None)),\n",
       " Choice(finish_reason='length', index=1, logprobs=None, message=ChatCompletionMessage(content='Cristóbal Colón es a menudo acreditado con el descubrimiento de América en 1492, cuando llegó a lo que hoy conocemos como las Bahamas. Sin embargo, es importante señalar que América ya estaba habitada por diversas civilizaciones indígenas mucho', refusal=None, role='assistant', audio=None, function_call=None, tool_calls=None))]"
      ]
     },
     "execution_count": 10,
     "metadata": {},
     "output_type": "execute_result"
    }
   ],
   "source": [
    "completion_2.choices"
   ]
  }
 ],
 "metadata": {
  "kernelspec": {
   "display_name": ".venv",
   "language": "python",
   "name": "python3"
  },
  "language_info": {
   "codemirror_mode": {
    "name": "ipython",
    "version": 3
   },
   "file_extension": ".py",
   "mimetype": "text/x-python",
   "name": "python",
   "nbconvert_exporter": "python",
   "pygments_lexer": "ipython3",
   "version": "3.12.7"
  }
 },
 "nbformat": 4,
 "nbformat_minor": 2
}
