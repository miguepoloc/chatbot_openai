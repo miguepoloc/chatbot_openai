{
 "cells": [
  {
   "cell_type": "code",
   "execution_count": 4,
   "metadata": {},
   "outputs": [],
   "source": [
    "from openai import OpenAI\n",
    "from openai.types.chat.chat_completion import ChatCompletion\n",
    "import os"
   ]
  },
  {
   "cell_type": "code",
   "execution_count": 5,
   "metadata": {},
   "outputs": [],
   "source": [
    "api_key: str = os.getenv(\"OPENAI_API_KEY\")\n",
    "client = OpenAI(api_key=api_key)"
   ]
  },
  {
   "cell_type": "code",
   "execution_count": 6,
   "metadata": {},
   "outputs": [
    {
     "name": "stdout",
     "output_type": "stream",
     "text": [
      "Una función lambda en Python es una función anónima que se define utilizando la palabra clave `lambda`. A diferencia de las funciones normales definidas con `def`, las funciones lambda son más concisas y se utilizan generalmente para crear funciones pequeñas y rápidas que se pueden usar en el lugar donde se necesitan, como en funciones de orden superior (por ejemplo, `map`, `filter`, `sorted`).\n",
      "\n",
      "La sintaxis de una función lambda es la siguiente:\n",
      "\n",
      "```python\n",
      "lambda argumentos: expresión\n",
      "```\n",
      "\n",
      "Aquí hay un ejemplo de una función lambda que suma dos números:\n",
      "\n",
      "```python\n",
      "suma = lambda x, y: x + y\n",
      "resultado = suma(3, 5)  # resultado será 8\n",
      "```\n",
      "\n",
      "Las funciones lambda son útiles cuando se necesita una función simple y no se quiere definir una función completa con `def`. Sin embargo, debido a su naturaleza anónima y a que solo pueden contener una expresión, son menos versátiles que las funciones definidas con `def`.\n"
     ]
    }
   ],
   "source": [
    "\n",
    "\n",
    "completion: ChatCompletion = client.chat.completions.create(\n",
    "    model=\"gpt-4o-mini\",\n",
    "    messages=[\n",
    "        {\"role\": \"system\", \"content\": \"Eres un asistente que da respuestas a preguntas sobre programación.\"},\n",
    "        {\n",
    "            \"role\": \"user\",\n",
    "            \"content\": \"¿Cuál es la diferencia entre una lista y una tupla en Python?\"\n",
    "        },\n",
    "        {\n",
    "            \"role\": \"assistant\",\n",
    "            \"content\": \"Una lista es un conjunto de elementos ordenados y mutables, mientras que una tupla es un conjunto de elementos ordenados e inmutables.\"\n",
    "        },\n",
    "        {\n",
    "            \"role\": \"user\",\n",
    "            \"content\": \"¿Qué es una función lambda en Python?\"\n",
    "        }\n",
    "    ],\n",
    "    temperature=0.0,\n",
    ")\n",
    "\n",
    "print(completion.choices[0].message.content)"
   ]
  }
 ],
 "metadata": {
  "kernelspec": {
   "display_name": ".venv",
   "language": "python",
   "name": "python3"
  },
  "language_info": {
   "codemirror_mode": {
    "name": "ipython",
    "version": 3
   },
   "file_extension": ".py",
   "mimetype": "text/x-python",
   "name": "python",
   "nbconvert_exporter": "python",
   "pygments_lexer": "ipython3",
   "version": "3.12.7"
  }
 },
 "nbformat": 4,
 "nbformat_minor": 2
}
